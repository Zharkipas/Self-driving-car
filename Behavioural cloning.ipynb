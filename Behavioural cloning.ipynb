{
 "cells": [
  {
   "cell_type": "code",
   "execution_count": 36,
   "metadata": {},
   "outputs": [],
   "source": [
    "import numpy as np\n",
    "import matplotlib.pyplot as plt\n",
    "import keras\n",
    "from keras.models import Sequential\n",
    "from keras.optimizers import Adam\n",
    "from keras.layers import Conv2D, MaxPooling2D, Dropout, Flatten, Dense\n",
    "from sklearn.utils import shuffle\n",
    "import cv2\n",
    "import pandas as pd\n",
    "import ntpath\n",
    "import random"
   ]
  },
  {
   "cell_type": "code",
   "execution_count": 37,
   "metadata": {},
   "outputs": [],
   "source": [
    "#display first 5 rows of data from csv\n",
    "\n",
    "columns= ('center', 'left', 'right', 'steering', 'throttle', 'reverse', 'speed')\n",
    "data = pd.read_csv(('driving_log.csv'), names=columns)\n",
    "pd.set_option('display.max_colwidth', None)"
   ]
  },
  {
   "cell_type": "code",
   "execution_count": 38,
   "metadata": {},
   "outputs": [
    {
     "data": {
      "text/html": [
       "<div>\n",
       "<style scoped>\n",
       "    .dataframe tbody tr th:only-of-type {\n",
       "        vertical-align: middle;\n",
       "    }\n",
       "\n",
       "    .dataframe tbody tr th {\n",
       "        vertical-align: top;\n",
       "    }\n",
       "\n",
       "    .dataframe thead th {\n",
       "        text-align: right;\n",
       "    }\n",
       "</style>\n",
       "<table border=\"1\" class=\"dataframe\">\n",
       "  <thead>\n",
       "    <tr style=\"text-align: right;\">\n",
       "      <th></th>\n",
       "      <th>center</th>\n",
       "      <th>left</th>\n",
       "      <th>right</th>\n",
       "      <th>steering</th>\n",
       "      <th>throttle</th>\n",
       "      <th>reverse</th>\n",
       "      <th>speed</th>\n",
       "    </tr>\n",
       "  </thead>\n",
       "  <tbody>\n",
       "    <tr>\n",
       "      <th>0</th>\n",
       "      <td>center_2022_10_12_13_21_10_965.jpg</td>\n",
       "      <td>left_2022_10_12_13_21_10_965.jpg</td>\n",
       "      <td>right_2022_10_12_13_21_10_965.jpg</td>\n",
       "      <td>0.0</td>\n",
       "      <td>0.0</td>\n",
       "      <td>0.0</td>\n",
       "      <td>0.000078</td>\n",
       "    </tr>\n",
       "    <tr>\n",
       "      <th>1</th>\n",
       "      <td>center_2022_10_12_13_21_11_066.jpg</td>\n",
       "      <td>left_2022_10_12_13_21_11_066.jpg</td>\n",
       "      <td>right_2022_10_12_13_21_11_066.jpg</td>\n",
       "      <td>0.0</td>\n",
       "      <td>0.0</td>\n",
       "      <td>0.0</td>\n",
       "      <td>0.000078</td>\n",
       "    </tr>\n",
       "    <tr>\n",
       "      <th>2</th>\n",
       "      <td>center_2022_10_12_13_21_11_167.jpg</td>\n",
       "      <td>left_2022_10_12_13_21_11_167.jpg</td>\n",
       "      <td>right_2022_10_12_13_21_11_167.jpg</td>\n",
       "      <td>0.0</td>\n",
       "      <td>0.0</td>\n",
       "      <td>0.0</td>\n",
       "      <td>0.000078</td>\n",
       "    </tr>\n",
       "    <tr>\n",
       "      <th>3</th>\n",
       "      <td>center_2022_10_12_13_21_11_270.jpg</td>\n",
       "      <td>left_2022_10_12_13_21_11_270.jpg</td>\n",
       "      <td>right_2022_10_12_13_21_11_270.jpg</td>\n",
       "      <td>0.0</td>\n",
       "      <td>0.0</td>\n",
       "      <td>0.0</td>\n",
       "      <td>0.000079</td>\n",
       "    </tr>\n",
       "    <tr>\n",
       "      <th>4</th>\n",
       "      <td>center_2022_10_12_13_21_11_371.jpg</td>\n",
       "      <td>left_2022_10_12_13_21_11_371.jpg</td>\n",
       "      <td>right_2022_10_12_13_21_11_371.jpg</td>\n",
       "      <td>0.0</td>\n",
       "      <td>0.0</td>\n",
       "      <td>0.0</td>\n",
       "      <td>0.000079</td>\n",
       "    </tr>\n",
       "  </tbody>\n",
       "</table>\n",
       "</div>"
      ],
      "text/plain": [
       "                               center                              left  \\\n",
       "0  center_2022_10_12_13_21_10_965.jpg  left_2022_10_12_13_21_10_965.jpg   \n",
       "1  center_2022_10_12_13_21_11_066.jpg  left_2022_10_12_13_21_11_066.jpg   \n",
       "2  center_2022_10_12_13_21_11_167.jpg  left_2022_10_12_13_21_11_167.jpg   \n",
       "3  center_2022_10_12_13_21_11_270.jpg  left_2022_10_12_13_21_11_270.jpg   \n",
       "4  center_2022_10_12_13_21_11_371.jpg  left_2022_10_12_13_21_11_371.jpg   \n",
       "\n",
       "                               right  steering  throttle  reverse     speed  \n",
       "0  right_2022_10_12_13_21_10_965.jpg       0.0       0.0      0.0  0.000078  \n",
       "1  right_2022_10_12_13_21_11_066.jpg       0.0       0.0      0.0  0.000078  \n",
       "2  right_2022_10_12_13_21_11_167.jpg       0.0       0.0      0.0  0.000078  \n",
       "3  right_2022_10_12_13_21_11_270.jpg       0.0       0.0      0.0  0.000079  \n",
       "4  right_2022_10_12_13_21_11_371.jpg       0.0       0.0      0.0  0.000079  "
      ]
     },
     "execution_count": 38,
     "metadata": {},
     "output_type": "execute_result"
    }
   ],
   "source": [
    "#clear path from jpg files\n",
    "\n",
    "def path_leaf(path):\n",
    "    head, tail=ntpath.split(path)\n",
    "    return tail\n",
    "\n",
    "data['center'] = data['center'].apply(path_leaf)\n",
    "data['left'] = data['left'].apply(path_leaf)\n",
    "data['right'] = data['right'].apply(path_leaf)\n",
    "data.head()"
   ]
  },
  {
   "cell_type": "code",
   "execution_count": 39,
   "metadata": {},
   "outputs": [
    {
     "data": {
      "text/plain": [
       "[<matplotlib.lines.Line2D at 0x1da9dc6b7f0>]"
      ]
     },
     "execution_count": 39,
     "metadata": {},
     "output_type": "execute_result"
    },
    {
     "data": {
      "image/png": "[encoded data removed]",
      "text/plain": [
       "<Figure size 640x480 with 1 Axes>"
      ]
     },
     "metadata": {},
     "output_type": "display_data"
    }
   ],
   "source": [
    "#draw histogram to show distribution of steering angles and select sample size per bin\n",
    "\n",
    "num_bins = 25\n",
    "samples_per_bin = 300\n",
    "hist, bins =np.histogram(data['steering'], num_bins)\n",
    "center = (bins[:-1] + bins[1:]) * 0.5\n",
    "plt.bar(center, hist, width=0.05)\n",
    "plt.plot((np.min(data['steering']), np.max(data['steering'])), (samples_per_bin, samples_per_bin))"
   ]
  },
  {
   "cell_type": "code",
   "execution_count": 40,
   "metadata": {},
   "outputs": [
    {
     "name": "stdout",
     "output_type": "stream",
     "text": [
      "total data: 6945\n",
      "removed: 4729\n",
      "remaining 2216\n"
     ]
    },
    {
     "data": {
      "text/plain": [
       "[<matplotlib.lines.Line2D at 0x1da9ee11fc0>]"
      ]
     },
     "execution_count": 40,
     "metadata": {},
     "output_type": "execute_result"
    },
    {
     "data": {
      "image/png": "[encoded data removed]",
      "text/plain": [
       "<Figure size 640x480 with 1 Axes>"
      ]
     },
     "metadata": {},
     "output_type": "display_data"
    }
   ],
   "source": [
    "print('total data:', len(data))\n",
    "remove_list = []\n",
    "for j in range(num_bins):\n",
    "    list_ = []\n",
    "    for i in range(len(data['steering'])):\n",
    "        if data['steering'][i] >= bins[j] and data['steering'][i] <= bins[j+1]:\n",
    "            list_.append(i)\n",
    "\n",
    "    list_ = shuffle(list_)\n",
    "    list_ = list_[samples_per_bin:]\n",
    "    remove_list.extend(list_)\n",
    "\n",
    "print('removed:', len(remove_list))\n",
    "data.drop(data.index[remove_list], inplace=True)\n",
    "print('remaining', len(data))\n",
    "\n",
    "hist, _ = np.histogram(data['steering'], (num_bins))\n",
    "plt.bar(center, hist, width=0.05)\n",
    "plt.plot((np.min(data['steering']), np.max(data['steering'])), (samples_per_bin, samples_per_bin))"
   ]
  },
  {
   "cell_type": "code",
   "execution_count": null,
   "metadata": {},
   "outputs": [],
   "source": [
    "def load_img_steering(, )"
   ]
  }
 ],
 "metadata": {
  "kernelspec": {
   "display_name": "Python 3.10.7 64-bit",
   "language": "python",
   "name": "python3"
  },
  "language_info": {
   "codemirror_mode": {
    "name": "ipython",
    "version": 3
   },
   "file_extension": ".py",
   "mimetype": "text/x-python",
   "name": "python",
   "nbconvert_exporter": "python",
   "pygments_lexer": "ipython3",
   "version": "3.10.7"
  },
  "orig_nbformat": 4,
  "vscode": {
   "interpreter": {
    "hash": "4df9d95589785604f862fd4d34d5e9ce701b47da7f04a584076a925a941af822"
   }
  }
 },
 "nbformat": 4,
 "nbformat_minor": 2
}
